{
  "nbformat": 4,
  "nbformat_minor": 0,
  "metadata": {
    "colab": {
      "name": "qr_convert.ipynb",
      "provenance": [],
      "toc_visible": true,
      "authorship_tag": "ABX9TyOflA2mAgjeehu9tQ+36IWo",
      "include_colab_link": true
    },
    "kernelspec": {
      "name": "python3",
      "display_name": "Python 3"
    },
    "language_info": {
      "name": "python"
    }
  },
  "cells": [
    {
      "cell_type": "markdown",
      "metadata": {
        "id": "view-in-github",
        "colab_type": "text"
      },
      "source": [
        "<a href=\"https://colab.research.google.com/github/RepeatedFailure/qr_convert/blob/main/qr_convert.ipynb\" target=\"_parent\"><img src=\"https://colab.research.google.com/assets/colab-badge.svg\" alt=\"Open In Colab\"/></a>"
      ]
    },
    {
      "cell_type": "markdown",
      "source": [
        "Run this once to import the package doing al the work by x-hw\n",
        "https://github.com/x-hw/amazing-qr"
      ],
      "metadata": {
        "id": "KZdTQFsKeo57"
      }
    },
    {
      "cell_type": "code",
      "metadata": {
        "colab": {
          "base_uri": "https://localhost:8080/"
        },
        "id": "hiF-N5h8-Y-O",
        "outputId": "f07e105e-1c10-4dfa-f5a7-485fc3a64069"
      },
      "source": [
        "pip install amzqr"
      ],
      "execution_count": 1,
      "outputs": [
        {
          "output_type": "stream",
          "name": "stdout",
          "text": [
            "Collecting amzqr\n",
            "  Downloading amzqr-0.0.1-py3-none-any.whl (30 kB)\n",
            "Requirement already satisfied: imageio>=1.5 in /usr/local/lib/python3.7/dist-packages (from amzqr) (2.4.1)\n",
            "Requirement already satisfied: Pillow>=3.3.1 in /usr/local/lib/python3.7/dist-packages (from amzqr) (7.1.2)\n",
            "Requirement already satisfied: numpy>=1.11.1 in /usr/local/lib/python3.7/dist-packages (from amzqr) (1.21.6)\n",
            "Installing collected packages: amzqr\n",
            "Successfully installed amzqr-0.0.1\n"
          ]
        }
      ]
    },
    {
      "cell_type": "markdown",
      "source": [
        "# Put your link or text to encode in the beginging link section\n",
        "\n",
        "Characters supported to encode:\n",
        "\n",
        "*   Numbers: 0-9\n",
        "*   Letters: a-z, A-Z\n",
        "*   Common punctuation:\n",
        "· , . : ; + - * / \\ ~ ! @ # $ % ^ & ` ' = < > [ ] ( ) ? _ { } | and  (space)\n",
        "\n",
        "\n",
        "\n",
        "---\n",
        "# Options And File Locations\n",
        "\n",
        "***version:*** int, from 1 to 40, the side length\n",
        "\n",
        "***level:*** str, just one of ('L','M','Q','H'), The level of error correction for the qr code\n",
        "\n",
        "***picture:*** str, a filename of the file to convert (.jpg, .png, .bmp, .gif)\n",
        "\n",
        "*<- Remeber to upload your file into colab!  Drag abnd drop into the left*\n",
        "\n",
        "***colorized:*** bool (Flase, True)\n",
        "\n",
        "***constrast:*** float (1.0)\n",
        "\n",
        "***brightness:*** float (1.0)\n",
        "\n",
        "***save_name:*** str, the output filename like 'example.png'(.jpg, .png, .bmp, .gif)\n",
        "\n",
        "*<- Your new file can be downloaded on the left* \n",
        "\n",
        ".gif msut be used to save .gif inputs\n",
        "\n",
        "***save_dir:*** str, the output directory\n",
        "\n",
        "Run This when done!"
      ],
      "metadata": {
        "id": "ZuKefeIKfRgy"
      }
    },
    {
      "cell_type": "code",
      "metadata": {
        "colab": {
          "base_uri": "https://localhost:8080/",
          "height": 374
        },
        "id": "eJa56ZgO98d2",
        "outputId": "31fcab0f-3753-4142-e3cf-8d56e2472749"
      },
      "source": [
        "from amzqr import amzqr\n",
        "\n",
        "version, level, qr_name = amzqr.run(\n",
        "    \"https://www.yourlinkhere.com\",\n",
        "    version=1,\n",
        "    level='L',\n",
        "    picture=\"inputimage.gif\",\n",
        "    colorized=False,\n",
        "    contrast=1.0,\n",
        "    brightness=1.0,\n",
        "    save_name=\"qr_outputimage.gif\",\n",
        "    \n",
        ")"
      ],
      "execution_count": 2,
      "outputs": [
        {
          "output_type": "error",
          "ename": "ValueError",
          "evalue": "ignored",
          "traceback": [
            "\u001b[0;31m---------------------------------------------------------------------------\u001b[0m",
            "\u001b[0;31mValueError\u001b[0m                                Traceback (most recent call last)",
            "\u001b[0;32m<ipython-input-2-c111486efff6>\u001b[0m in \u001b[0;36m<module>\u001b[0;34m()\u001b[0m\n\u001b[1;32m      9\u001b[0m     \u001b[0mcontrast\u001b[0m\u001b[0;34m=\u001b[0m\u001b[0;36m1.0\u001b[0m\u001b[0;34m,\u001b[0m\u001b[0;34m\u001b[0m\u001b[0;34m\u001b[0m\u001b[0m\n\u001b[1;32m     10\u001b[0m     \u001b[0mbrightness\u001b[0m\u001b[0;34m=\u001b[0m\u001b[0;36m1.0\u001b[0m\u001b[0;34m,\u001b[0m\u001b[0;34m\u001b[0m\u001b[0;34m\u001b[0m\u001b[0m\n\u001b[0;32m---> 11\u001b[0;31m     \u001b[0msave_name\u001b[0m\u001b[0;34m=\u001b[0m\u001b[0;34m\"qr_badapple.gif\"\u001b[0m\u001b[0;34m,\u001b[0m\u001b[0;34m\u001b[0m\u001b[0;34m\u001b[0m\u001b[0m\n\u001b[0m\u001b[1;32m     12\u001b[0m \u001b[0;34m\u001b[0m\u001b[0m\n\u001b[1;32m     13\u001b[0m )\n",
            "\u001b[0;32m/usr/local/lib/python3.7/dist-packages/amzqr/amzqr.py\u001b[0m in \u001b[0;36mrun\u001b[0;34m(words, version, level, picture, colorized, contrast, brightness, save_name, save_dir)\u001b[0m\n\u001b[1;32m     34\u001b[0m     \u001b[0;32mif\u001b[0m \u001b[0mpicture\u001b[0m\u001b[0;34m:\u001b[0m\u001b[0;34m\u001b[0m\u001b[0;34m\u001b[0m\u001b[0m\n\u001b[1;32m     35\u001b[0m         \u001b[0;32mif\u001b[0m \u001b[0;32mnot\u001b[0m \u001b[0misinstance\u001b[0m\u001b[0;34m(\u001b[0m\u001b[0mpicture\u001b[0m\u001b[0;34m,\u001b[0m \u001b[0mstr\u001b[0m\u001b[0;34m)\u001b[0m \u001b[0;32mor\u001b[0m \u001b[0;32mnot\u001b[0m \u001b[0mos\u001b[0m\u001b[0;34m.\u001b[0m\u001b[0mpath\u001b[0m\u001b[0;34m.\u001b[0m\u001b[0misfile\u001b[0m\u001b[0;34m(\u001b[0m\u001b[0mpicture\u001b[0m\u001b[0;34m)\u001b[0m \u001b[0;32mor\u001b[0m \u001b[0mpicture\u001b[0m\u001b[0;34m[\u001b[0m\u001b[0;34m-\u001b[0m\u001b[0;36m4\u001b[0m\u001b[0;34m:\u001b[0m\u001b[0;34m]\u001b[0m \u001b[0;32mnot\u001b[0m \u001b[0;32min\u001b[0m \u001b[0;34m(\u001b[0m\u001b[0;34m'.jpg'\u001b[0m\u001b[0;34m,\u001b[0m\u001b[0;34m'.png'\u001b[0m\u001b[0;34m,\u001b[0m\u001b[0;34m'.bmp'\u001b[0m\u001b[0;34m,\u001b[0m\u001b[0;34m'.gif'\u001b[0m\u001b[0;34m)\u001b[0m\u001b[0;34m:\u001b[0m\u001b[0;34m\u001b[0m\u001b[0;34m\u001b[0m\u001b[0m\n\u001b[0;32m---> 36\u001b[0;31m             \u001b[0;32mraise\u001b[0m \u001b[0mValueError\u001b[0m\u001b[0;34m(\u001b[0m\u001b[0;34m\"Wrong picture! Input a filename that exists and be tailed with one of {'.jpg', '.png', '.bmp', '.gif'}!\"\u001b[0m\u001b[0;34m)\u001b[0m\u001b[0;34m\u001b[0m\u001b[0;34m\u001b[0m\u001b[0m\n\u001b[0m\u001b[1;32m     37\u001b[0m         \u001b[0;32mif\u001b[0m \u001b[0mpicture\u001b[0m\u001b[0;34m[\u001b[0m\u001b[0;34m-\u001b[0m\u001b[0;36m4\u001b[0m\u001b[0;34m:\u001b[0m\u001b[0;34m]\u001b[0m \u001b[0;34m==\u001b[0m \u001b[0;34m'.gif'\u001b[0m \u001b[0;32mand\u001b[0m \u001b[0msave_name\u001b[0m \u001b[0;32mand\u001b[0m \u001b[0msave_name\u001b[0m\u001b[0;34m[\u001b[0m\u001b[0;34m-\u001b[0m\u001b[0;36m4\u001b[0m\u001b[0;34m:\u001b[0m\u001b[0;34m]\u001b[0m \u001b[0;34m!=\u001b[0m \u001b[0;34m'.gif'\u001b[0m\u001b[0;34m:\u001b[0m\u001b[0;34m\u001b[0m\u001b[0;34m\u001b[0m\u001b[0m\n\u001b[1;32m     38\u001b[0m             \u001b[0;32mraise\u001b[0m \u001b[0mValueError\u001b[0m\u001b[0;34m(\u001b[0m\u001b[0;34m'Wrong save_name! If the picuter is .gif format, the output filename should be .gif format, too!'\u001b[0m\u001b[0;34m)\u001b[0m\u001b[0;34m\u001b[0m\u001b[0;34m\u001b[0m\u001b[0m\n",
            "\u001b[0;31mValueError\u001b[0m: Wrong picture! Input a filename that exists and be tailed with one of {'.jpg', '.png', '.bmp', '.gif'}!"
          ]
        }
      ]
    }
  ]
}